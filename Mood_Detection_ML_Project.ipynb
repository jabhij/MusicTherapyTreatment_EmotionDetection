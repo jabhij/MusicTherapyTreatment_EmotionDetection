{
  "nbformat": 4,
  "nbformat_minor": 0,
  "metadata": {
    "colab": {
      "provenance": [],
      "mount_file_id": "16QWulnMIVhfQX0cy9VjuajGE51xDLbVM",
      "authorship_tag": "ABX9TyNlgubgAlc0X9fmmcKqSARd",
      "include_colab_link": true
    },
    "kernelspec": {
      "name": "python3",
      "display_name": "Python 3"
    },
    "language_info": {
      "name": "python"
    },
    "accelerator": "GPU",
    "gpuClass": "standard"
  },
  "cells": [
    {
      "cell_type": "markdown",
      "metadata": {
        "id": "view-in-github",
        "colab_type": "text"
      },
      "source": [
        "<a href=\"https://colab.research.google.com/github/jabhij/MusicTherapyTreatment_EmotionDetection/blob/main/Mood_Detection_ML_Project.ipynb\" target=\"_parent\"><img src=\"https://colab.research.google.com/assets/colab-badge.svg\" alt=\"Open In Colab\"/></a>"
      ]
    },
    {
      "cell_type": "code",
      "execution_count": 41,
      "metadata": {
        "id": "VpdU9gG-qH8b"
      },
      "outputs": [],
      "source": [
        "import pandas as pd\n",
        "import numpy as np\n",
        "import os\n",
        "import matplotlib.pyplot as plt\n",
        "\n",
        "from keras import models\n",
        "from keras.utils import to_categorical, np_utils\n",
        "\n",
        "from tensorflow import convert_to_tensor\n",
        "from tensorflow.image import grayscale_to_rgb\n",
        "from tensorflow.data import Dataset\n",
        "from tensorflow.keras.layers import Conv2D, Flatten, Dense, GlobalAvgPool2D, GlobalMaxPool2D, MaxPool2D\n",
        "from tensorflow.keras.callbacks import Callback, EarlyStopping, ReduceLROnPlateau\n",
        "from tensorflow.keras.optimizers import Adam\n",
        "from tensorflow.keras.utils import plot_model"
      ]
    },
    {
      "cell_type": "code",
      "source": [
        "path = '/content/drive/MyDrive/Mood-Detection-Project/challenges-in-representation-learning-facial-expression-recognition-challenge/icml_face_data.csv'\n",
        "path"
      ],
      "metadata": {
        "colab": {
          "base_uri": "https://localhost:8080/",
          "height": 35
        },
        "id": "Ygw4gSW9zAs_",
        "outputId": "7c3c1ae9-89e3-4bdb-e665-b7dbdd29b197"
      },
      "execution_count": 18,
      "outputs": [
        {
          "output_type": "execute_result",
          "data": {
            "text/plain": [
              "'/content/drive/MyDrive/Mood-Detection-Project/challenges-in-representation-learning-facial-expression-recognition-challenge/icml_face_data.csv'"
            ],
            "application/vnd.google.colaboratory.intrinsic+json": {
              "type": "string"
            }
          },
          "metadata": {},
          "execution_count": 18
        }
      ]
    },
    {
      "cell_type": "code",
      "source": [
        "data = pd.read_csv(path)"
      ],
      "metadata": {
        "id": "D8Kg0NQU4jqF"
      },
      "execution_count": 20,
      "outputs": []
    },
    {
      "cell_type": "code",
      "source": [
        "data.head()"
      ],
      "metadata": {
        "colab": {
          "base_uri": "https://localhost:8080/",
          "height": 206
        },
        "id": "sKqyUP924xz-",
        "outputId": "3a49e535-dc80-462b-dff4-491e4d1d63c8"
      },
      "execution_count": 21,
      "outputs": [
        {
          "output_type": "execute_result",
          "data": {
            "text/plain": [
              "   emotion     Usage                                             pixels\n",
              "0        0  Training  70 80 82 72 58 58 60 63 54 58 60 48 89 115 121...\n",
              "1        0  Training  151 150 147 155 148 133 111 140 170 174 182 15...\n",
              "2        2  Training  231 212 156 164 174 138 161 173 182 200 106 38...\n",
              "3        4  Training  24 32 36 30 32 23 19 20 30 41 21 22 32 34 21 1...\n",
              "4        6  Training  4 0 0 0 0 0 0 0 0 0 0 0 3 15 23 28 48 50 58 84..."
            ],
            "text/html": [
              "\n",
              "  <div id=\"df-3f9f7921-efca-4531-949b-2f2e3ba77e4d\">\n",
              "    <div class=\"colab-df-container\">\n",
              "      <div>\n",
              "<style scoped>\n",
              "    .dataframe tbody tr th:only-of-type {\n",
              "        vertical-align: middle;\n",
              "    }\n",
              "\n",
              "    .dataframe tbody tr th {\n",
              "        vertical-align: top;\n",
              "    }\n",
              "\n",
              "    .dataframe thead th {\n",
              "        text-align: right;\n",
              "    }\n",
              "</style>\n",
              "<table border=\"1\" class=\"dataframe\">\n",
              "  <thead>\n",
              "    <tr style=\"text-align: right;\">\n",
              "      <th></th>\n",
              "      <th>emotion</th>\n",
              "      <th>Usage</th>\n",
              "      <th>pixels</th>\n",
              "    </tr>\n",
              "  </thead>\n",
              "  <tbody>\n",
              "    <tr>\n",
              "      <th>0</th>\n",
              "      <td>0</td>\n",
              "      <td>Training</td>\n",
              "      <td>70 80 82 72 58 58 60 63 54 58 60 48 89 115 121...</td>\n",
              "    </tr>\n",
              "    <tr>\n",
              "      <th>1</th>\n",
              "      <td>0</td>\n",
              "      <td>Training</td>\n",
              "      <td>151 150 147 155 148 133 111 140 170 174 182 15...</td>\n",
              "    </tr>\n",
              "    <tr>\n",
              "      <th>2</th>\n",
              "      <td>2</td>\n",
              "      <td>Training</td>\n",
              "      <td>231 212 156 164 174 138 161 173 182 200 106 38...</td>\n",
              "    </tr>\n",
              "    <tr>\n",
              "      <th>3</th>\n",
              "      <td>4</td>\n",
              "      <td>Training</td>\n",
              "      <td>24 32 36 30 32 23 19 20 30 41 21 22 32 34 21 1...</td>\n",
              "    </tr>\n",
              "    <tr>\n",
              "      <th>4</th>\n",
              "      <td>6</td>\n",
              "      <td>Training</td>\n",
              "      <td>4 0 0 0 0 0 0 0 0 0 0 0 3 15 23 28 48 50 58 84...</td>\n",
              "    </tr>\n",
              "  </tbody>\n",
              "</table>\n",
              "</div>\n",
              "      <button class=\"colab-df-convert\" onclick=\"convertToInteractive('df-3f9f7921-efca-4531-949b-2f2e3ba77e4d')\"\n",
              "              title=\"Convert this dataframe to an interactive table.\"\n",
              "              style=\"display:none;\">\n",
              "        \n",
              "  <svg xmlns=\"http://www.w3.org/2000/svg\" height=\"24px\"viewBox=\"0 0 24 24\"\n",
              "       width=\"24px\">\n",
              "    <path d=\"M0 0h24v24H0V0z\" fill=\"none\"/>\n",
              "    <path d=\"M18.56 5.44l.94 2.06.94-2.06 2.06-.94-2.06-.94-.94-2.06-.94 2.06-2.06.94zm-11 1L8.5 8.5l.94-2.06 2.06-.94-2.06-.94L8.5 2.5l-.94 2.06-2.06.94zm10 10l.94 2.06.94-2.06 2.06-.94-2.06-.94-.94-2.06-.94 2.06-2.06.94z\"/><path d=\"M17.41 7.96l-1.37-1.37c-.4-.4-.92-.59-1.43-.59-.52 0-1.04.2-1.43.59L10.3 9.45l-7.72 7.72c-.78.78-.78 2.05 0 2.83L4 21.41c.39.39.9.59 1.41.59.51 0 1.02-.2 1.41-.59l7.78-7.78 2.81-2.81c.8-.78.8-2.07 0-2.86zM5.41 20L4 18.59l7.72-7.72 1.47 1.35L5.41 20z\"/>\n",
              "  </svg>\n",
              "      </button>\n",
              "      \n",
              "  <style>\n",
              "    .colab-df-container {\n",
              "      display:flex;\n",
              "      flex-wrap:wrap;\n",
              "      gap: 12px;\n",
              "    }\n",
              "\n",
              "    .colab-df-convert {\n",
              "      background-color: #E8F0FE;\n",
              "      border: none;\n",
              "      border-radius: 50%;\n",
              "      cursor: pointer;\n",
              "      display: none;\n",
              "      fill: #1967D2;\n",
              "      height: 32px;\n",
              "      padding: 0 0 0 0;\n",
              "      width: 32px;\n",
              "    }\n",
              "\n",
              "    .colab-df-convert:hover {\n",
              "      background-color: #E2EBFA;\n",
              "      box-shadow: 0px 1px 2px rgba(60, 64, 67, 0.3), 0px 1px 3px 1px rgba(60, 64, 67, 0.15);\n",
              "      fill: #174EA6;\n",
              "    }\n",
              "\n",
              "    [theme=dark] .colab-df-convert {\n",
              "      background-color: #3B4455;\n",
              "      fill: #D2E3FC;\n",
              "    }\n",
              "\n",
              "    [theme=dark] .colab-df-convert:hover {\n",
              "      background-color: #434B5C;\n",
              "      box-shadow: 0px 1px 3px 1px rgba(0, 0, 0, 0.15);\n",
              "      filter: drop-shadow(0px 1px 2px rgba(0, 0, 0, 0.3));\n",
              "      fill: #FFFFFF;\n",
              "    }\n",
              "  </style>\n",
              "\n",
              "      <script>\n",
              "        const buttonEl =\n",
              "          document.querySelector('#df-3f9f7921-efca-4531-949b-2f2e3ba77e4d button.colab-df-convert');\n",
              "        buttonEl.style.display =\n",
              "          google.colab.kernel.accessAllowed ? 'block' : 'none';\n",
              "\n",
              "        async function convertToInteractive(key) {\n",
              "          const element = document.querySelector('#df-3f9f7921-efca-4531-949b-2f2e3ba77e4d');\n",
              "          const dataTable =\n",
              "            await google.colab.kernel.invokeFunction('convertToInteractive',\n",
              "                                                     [key], {});\n",
              "          if (!dataTable) return;\n",
              "\n",
              "          const docLinkHtml = 'Like what you see? Visit the ' +\n",
              "            '<a target=\"_blank\" href=https://colab.research.google.com/notebooks/data_table.ipynb>data table notebook</a>'\n",
              "            + ' to learn more about interactive tables.';\n",
              "          element.innerHTML = '';\n",
              "          dataTable['output_type'] = 'display_data';\n",
              "          await google.colab.output.renderOutput(dataTable, element);\n",
              "          const docLink = document.createElement('div');\n",
              "          docLink.innerHTML = docLinkHtml;\n",
              "          element.appendChild(docLink);\n",
              "        }\n",
              "      </script>\n",
              "    </div>\n",
              "  </div>\n",
              "  "
            ]
          },
          "metadata": {},
          "execution_count": 21
        }
      ]
    },
    {
      "cell_type": "code",
      "source": [
        "data.info()"
      ],
      "metadata": {
        "colab": {
          "base_uri": "https://localhost:8080/"
        },
        "id": "iwTaCfAp5U_-",
        "outputId": "f5ea68aa-0582-48b7-dcdd-44ec21b5b692"
      },
      "execution_count": 22,
      "outputs": [
        {
          "output_type": "stream",
          "name": "stdout",
          "text": [
            "<class 'pandas.core.frame.DataFrame'>\n",
            "RangeIndex: 35887 entries, 0 to 35886\n",
            "Data columns (total 3 columns):\n",
            " #   Column   Non-Null Count  Dtype \n",
            "---  ------   --------------  ----- \n",
            " 0   emotion  35887 non-null  int64 \n",
            " 1    Usage   35887 non-null  object\n",
            " 2    pixels  35887 non-null  object\n",
            "dtypes: int64(1), object(2)\n",
            "memory usage: 841.2+ KB\n"
          ]
        }
      ]
    },
    {
      "cell_type": "code",
      "source": [
        "data.describe()"
      ],
      "metadata": {
        "colab": {
          "base_uri": "https://localhost:8080/",
          "height": 300
        },
        "id": "r1ofC6bN6D77",
        "outputId": "1fc1b384-1797-4c42-9a66-8871c776861b"
      },
      "execution_count": 23,
      "outputs": [
        {
          "output_type": "execute_result",
          "data": {
            "text/plain": [
              "            emotion\n",
              "count  35887.000000\n",
              "mean       3.323265\n",
              "std        1.873819\n",
              "min        0.000000\n",
              "25%        2.000000\n",
              "50%        3.000000\n",
              "75%        5.000000\n",
              "max        6.000000"
            ],
            "text/html": [
              "\n",
              "  <div id=\"df-e83acb3b-2d04-46fe-bf3b-1de087db9a6d\">\n",
              "    <div class=\"colab-df-container\">\n",
              "      <div>\n",
              "<style scoped>\n",
              "    .dataframe tbody tr th:only-of-type {\n",
              "        vertical-align: middle;\n",
              "    }\n",
              "\n",
              "    .dataframe tbody tr th {\n",
              "        vertical-align: top;\n",
              "    }\n",
              "\n",
              "    .dataframe thead th {\n",
              "        text-align: right;\n",
              "    }\n",
              "</style>\n",
              "<table border=\"1\" class=\"dataframe\">\n",
              "  <thead>\n",
              "    <tr style=\"text-align: right;\">\n",
              "      <th></th>\n",
              "      <th>emotion</th>\n",
              "    </tr>\n",
              "  </thead>\n",
              "  <tbody>\n",
              "    <tr>\n",
              "      <th>count</th>\n",
              "      <td>35887.000000</td>\n",
              "    </tr>\n",
              "    <tr>\n",
              "      <th>mean</th>\n",
              "      <td>3.323265</td>\n",
              "    </tr>\n",
              "    <tr>\n",
              "      <th>std</th>\n",
              "      <td>1.873819</td>\n",
              "    </tr>\n",
              "    <tr>\n",
              "      <th>min</th>\n",
              "      <td>0.000000</td>\n",
              "    </tr>\n",
              "    <tr>\n",
              "      <th>25%</th>\n",
              "      <td>2.000000</td>\n",
              "    </tr>\n",
              "    <tr>\n",
              "      <th>50%</th>\n",
              "      <td>3.000000</td>\n",
              "    </tr>\n",
              "    <tr>\n",
              "      <th>75%</th>\n",
              "      <td>5.000000</td>\n",
              "    </tr>\n",
              "    <tr>\n",
              "      <th>max</th>\n",
              "      <td>6.000000</td>\n",
              "    </tr>\n",
              "  </tbody>\n",
              "</table>\n",
              "</div>\n",
              "      <button class=\"colab-df-convert\" onclick=\"convertToInteractive('df-e83acb3b-2d04-46fe-bf3b-1de087db9a6d')\"\n",
              "              title=\"Convert this dataframe to an interactive table.\"\n",
              "              style=\"display:none;\">\n",
              "        \n",
              "  <svg xmlns=\"http://www.w3.org/2000/svg\" height=\"24px\"viewBox=\"0 0 24 24\"\n",
              "       width=\"24px\">\n",
              "    <path d=\"M0 0h24v24H0V0z\" fill=\"none\"/>\n",
              "    <path d=\"M18.56 5.44l.94 2.06.94-2.06 2.06-.94-2.06-.94-.94-2.06-.94 2.06-2.06.94zm-11 1L8.5 8.5l.94-2.06 2.06-.94-2.06-.94L8.5 2.5l-.94 2.06-2.06.94zm10 10l.94 2.06.94-2.06 2.06-.94-2.06-.94-.94-2.06-.94 2.06-2.06.94z\"/><path d=\"M17.41 7.96l-1.37-1.37c-.4-.4-.92-.59-1.43-.59-.52 0-1.04.2-1.43.59L10.3 9.45l-7.72 7.72c-.78.78-.78 2.05 0 2.83L4 21.41c.39.39.9.59 1.41.59.51 0 1.02-.2 1.41-.59l7.78-7.78 2.81-2.81c.8-.78.8-2.07 0-2.86zM5.41 20L4 18.59l7.72-7.72 1.47 1.35L5.41 20z\"/>\n",
              "  </svg>\n",
              "      </button>\n",
              "      \n",
              "  <style>\n",
              "    .colab-df-container {\n",
              "      display:flex;\n",
              "      flex-wrap:wrap;\n",
              "      gap: 12px;\n",
              "    }\n",
              "\n",
              "    .colab-df-convert {\n",
              "      background-color: #E8F0FE;\n",
              "      border: none;\n",
              "      border-radius: 50%;\n",
              "      cursor: pointer;\n",
              "      display: none;\n",
              "      fill: #1967D2;\n",
              "      height: 32px;\n",
              "      padding: 0 0 0 0;\n",
              "      width: 32px;\n",
              "    }\n",
              "\n",
              "    .colab-df-convert:hover {\n",
              "      background-color: #E2EBFA;\n",
              "      box-shadow: 0px 1px 2px rgba(60, 64, 67, 0.3), 0px 1px 3px 1px rgba(60, 64, 67, 0.15);\n",
              "      fill: #174EA6;\n",
              "    }\n",
              "\n",
              "    [theme=dark] .colab-df-convert {\n",
              "      background-color: #3B4455;\n",
              "      fill: #D2E3FC;\n",
              "    }\n",
              "\n",
              "    [theme=dark] .colab-df-convert:hover {\n",
              "      background-color: #434B5C;\n",
              "      box-shadow: 0px 1px 3px 1px rgba(0, 0, 0, 0.15);\n",
              "      filter: drop-shadow(0px 1px 2px rgba(0, 0, 0, 0.3));\n",
              "      fill: #FFFFFF;\n",
              "    }\n",
              "  </style>\n",
              "\n",
              "      <script>\n",
              "        const buttonEl =\n",
              "          document.querySelector('#df-e83acb3b-2d04-46fe-bf3b-1de087db9a6d button.colab-df-convert');\n",
              "        buttonEl.style.display =\n",
              "          google.colab.kernel.accessAllowed ? 'block' : 'none';\n",
              "\n",
              "        async function convertToInteractive(key) {\n",
              "          const element = document.querySelector('#df-e83acb3b-2d04-46fe-bf3b-1de087db9a6d');\n",
              "          const dataTable =\n",
              "            await google.colab.kernel.invokeFunction('convertToInteractive',\n",
              "                                                     [key], {});\n",
              "          if (!dataTable) return;\n",
              "\n",
              "          const docLinkHtml = 'Like what you see? Visit the ' +\n",
              "            '<a target=\"_blank\" href=https://colab.research.google.com/notebooks/data_table.ipynb>data table notebook</a>'\n",
              "            + ' to learn more about interactive tables.';\n",
              "          element.innerHTML = '';\n",
              "          dataTable['output_type'] = 'display_data';\n",
              "          await google.colab.output.renderOutput(dataTable, element);\n",
              "          const docLink = document.createElement('div');\n",
              "          docLink.innerHTML = docLinkHtml;\n",
              "          element.appendChild(docLink);\n",
              "        }\n",
              "      </script>\n",
              "    </div>\n",
              "  </div>\n",
              "  "
            ]
          },
          "metadata": {},
          "execution_count": 23
        }
      ]
    },
    {
      "cell_type": "code",
      "source": [
        "data[' Usage'].value_counts()"
      ],
      "metadata": {
        "colab": {
          "base_uri": "https://localhost:8080/"
        },
        "id": "a0R4Z0t66Xj4",
        "outputId": "cc41b907-fdf2-4bdf-8357-599e99b87365"
      },
      "execution_count": 25,
      "outputs": [
        {
          "output_type": "execute_result",
          "data": {
            "text/plain": [
              "Training       28709\n",
              "PublicTest      3589\n",
              "PrivateTest     3589\n",
              "Name:  Usage, dtype: int64"
            ]
          },
          "metadata": {},
          "execution_count": 25
        }
      ]
    },
    {
      "cell_type": "code",
      "source": [
        "def prepare_data(data):\n",
        "    \"\"\" Prepare data for modeling \n",
        "        input: data frame with labels und pixel data\n",
        "        output: image and label array \"\"\"\n",
        "    \n",
        "    image_array = np.zeros(shape=(len(data), 48, 48))\n",
        "    image_label = np.array(list(map(int, data['emotion'])))\n",
        "    \n",
        "    for i, row in enumerate(data.index):\n",
        "        image = np.fromstring(data.loc[row, ' pixels'], dtype=int, sep=' ')\n",
        "        image = np.reshape(image, (48, 48))\n",
        "        image_array[i] = image\n",
        "        \n",
        "    return image_array, image_label\n",
        "\n",
        "def plot_examples(label=0):\n",
        "    fig, axs = plt.subplots(1, 5, figsize=(25, 12))\n",
        "    fig.subplots_adjust(hspace = .2, wspace=.2)\n",
        "    axs = axs.ravel()\n",
        "    for i in range(5):\n",
        "        idx = data[data['emotion']==label].index[i]\n",
        "        axs[i].imshow(train_images[idx][:,:,0], cmap='gray')\n",
        "        axs[i].set_title(emotions[train_labels[idx].argmax()])\n",
        "        axs[i].set_xticklabels([])\n",
        "        axs[i].set_yticklabels([])\n",
        "        \n",
        "def plot_all_emotions():\n",
        "    fig, axs = plt.subplots(1, 7, figsize=(30, 12))\n",
        "    fig.subplots_adjust(hspace = .2, wspace=.2)\n",
        "    axs = axs.ravel()\n",
        "    for i in range(7):\n",
        "        idx = data[data['emotion']==i].index[i]\n",
        "        axs[i].imshow(train_images[idx][:,:,0], cmap='gray')\n",
        "        axs[i].set_title(emotions[train_labels[idx].argmax()])\n",
        "        axs[i].set_xticklabels([])\n",
        "        axs[i].set_yticklabels([])\n",
        "        \n",
        "def plot_image_and_emotion(test_image_array, test_image_label, pred_test_labels, image_number):\n",
        "    \"\"\" Function to plot the image and compare the prediction results with the label \"\"\"\n",
        "    \n",
        "    fig, axs = plt.subplots(1, 2, figsize=(12, 6), sharey=False)\n",
        "    \n",
        "    bar_label = emotions.values()\n",
        "    \n",
        "    axs[0].imshow(test_image_array[image_number], 'gray')\n",
        "    axs[0].set_title(emotions[test_image_label[image_number]])\n",
        "    \n",
        "    axs[1].bar(bar_label, pred_test_labels[image_number], color='orange', alpha=0.7)\n",
        "    axs[1].grid()\n",
        "    \n",
        "    plt.show()\n",
        "    \n",
        "def plot_compare_distributions(array1, array2, title1='', title2=''):\n",
        "    df_array1 = pd.DataFrame()\n",
        "    df_array2 = pd.DataFrame()\n",
        "    df_array1['emotion'] = array1.argmax(axis=1)\n",
        "    df_array2['emotion'] = array2.argmax(axis=1)\n",
        "    \n",
        "    fig, axs = plt.subplots(1, 2, figsize=(12, 6), sharey=False)\n",
        "    x = emotions.values()\n",
        "    \n",
        "    y = df_array1['emotion'].value_counts()\n",
        "    keys_missed = list(set(emotions.keys()).difference(set(y.keys())))\n",
        "    for key_missed in keys_missed:\n",
        "        y[key_missed] = 0\n",
        "    axs[0].bar(x, y.sort_index(), color='orange')\n",
        "    axs[0].set_title(title1)\n",
        "    axs[0].grid()\n",
        "    \n",
        "    y = df_array2['emotion'].value_counts()\n",
        "    keys_missed = list(set(emotions.keys()).difference(set(y.keys())))\n",
        "    for key_missed in keys_missed:\n",
        "        y[key_missed] = 0\n",
        "    axs[1].bar(x, y.sort_index())\n",
        "    axs[1].set_title(title2)\n",
        "    axs[1].grid()\n",
        "    \n",
        "    plt.show()"
      ],
      "metadata": {
        "id": "fI985AaM6ICI"
      },
      "execution_count": 24,
      "outputs": []
    },
    {
      "cell_type": "code",
      "source": [
        "emotions = {0: 'Angry', 1: 'Disgust', 2: 'Fear', 3: 'Happy', 4: 'Sad', 5: 'Surprise', 6: 'Neutral'}"
      ],
      "metadata": {
        "id": "7-QK7jGG6lVV"
      },
      "execution_count": 26,
      "outputs": []
    },
    {
      "cell_type": "code",
      "source": [
        "train_image_array, train_image_label = prepare_data(data[data[' Usage']=='Training'])\n",
        "val_image_array, val_image_label = prepare_data(data[data[' Usage']=='PrivateTest'])\n",
        "test_image_array, test_image_label = prepare_data(data[data[' Usage']=='PublicTest'])"
      ],
      "metadata": {
        "id": "rpEUpjya6lcB"
      },
      "execution_count": 27,
      "outputs": []
    },
    {
      "cell_type": "code",
      "source": [
        "train_images = train_image_array.reshape((train_image_array.shape[0], 48, 48, 1))\n",
        "train_images = train_images.astype('float32')/255\n",
        "val_images = val_image_array.reshape((val_image_array.shape[0], 48, 48, 1))\n",
        "val_images = val_images.astype('float32')/255\n",
        "test_images = test_image_array.reshape((test_image_array.shape[0], 48, 48, 1))\n",
        "test_images = test_images.astype('float32')/255"
      ],
      "metadata": {
        "id": "3nXDdFSe6lg1"
      },
      "execution_count": 28,
      "outputs": []
    },
    {
      "cell_type": "code",
      "source": [
        "train_labels = to_categorical(train_image_label)\n",
        "val_labels = to_categorical(val_image_label)\n",
        "test_labels = to_categorical(test_image_label)"
      ],
      "metadata": {
        "id": "24l2QdSH6llV"
      },
      "execution_count": 29,
      "outputs": []
    },
    {
      "cell_type": "code",
      "source": [
        "plot_all_emotions()"
      ],
      "metadata": {
        "colab": {
          "base_uri": "https://localhost:8080/",
          "height": 192
        },
        "id": "BsLUg5wx6lp6",
        "outputId": "e292df52-b67c-479c-a48d-552ad57c7df0"
      },
      "execution_count": 30,
      "outputs": [
        {
          "output_type": "display_data",
          "data": {
            "text/plain": [
              "<Figure size 3000x1200 with 7 Axes>"
            ],
            "image/png": "[encoded data removed]"
          },
          "metadata": {}
        }
      ]
    },
    {
      "cell_type": "code",
      "source": [
        "plot_compare_distributions(train_labels, val_labels, title1='train labels', title2='val labels')"
      ],
      "metadata": {
        "colab": {
          "base_uri": "https://localhost:8080/",
          "height": 545
        },
        "id": "u-e1P9AJ7H5r",
        "outputId": "341163f3-c6e4-48c1-c5eb-c94fc564f6f6"
      },
      "execution_count": 31,
      "outputs": [
        {
          "output_type": "display_data",
          "data": {
            "text/plain": [
              "<Figure size 1200x600 with 2 Axes>"
            ],
            "image/png": "[encoded data removed]"
          },
          "metadata": {}
        }
      ]
    },
    {
      "cell_type": "code",
      "source": [
        "class_weight = dict(zip(range(0, 7), (((data[data[' Usage']=='Training']['emotion'].value_counts()).sort_index())/len(data[data[' Usage']=='Training']['emotion'])).tolist()))"
      ],
      "metadata": {
        "id": "6IkqiKEY7XDQ"
      },
      "execution_count": 32,
      "outputs": []
    },
    {
      "cell_type": "code",
      "source": [
        "class_weight"
      ],
      "metadata": {
        "colab": {
          "base_uri": "https://localhost:8080/"
        },
        "id": "XHGRDtp57XLu",
        "outputId": "d8dcbe98-6f8d-4e81-8230-5728fc42a83a"
      },
      "execution_count": 33,
      "outputs": [
        {
          "output_type": "execute_result",
          "data": {
            "text/plain": [
              "{0: 0.1391549688251071,\n",
              " 1: 0.01518687519593159,\n",
              " 2: 0.14270786164617366,\n",
              " 3: 0.2513149186666202,\n",
              " 4: 0.16823992476226968,\n",
              " 5: 0.11045316799609878,\n",
              " 6: 0.17294228290779895}"
            ]
          },
          "metadata": {},
          "execution_count": 33
        }
      ]
    },
    {
      "cell_type": "code",
      "source": [],
      "metadata": {
        "id": "CdKw2zMWIlVD"
      },
      "execution_count": null,
      "outputs": []
    },
    {
      "cell_type": "code",
      "source": [
        "model = models.Sequential()\n",
        "model.add(Conv2D(128, (3, 3), activation='relu', input_shape=(48, 48, 1)))\n",
        "model.add(MaxPool2D((2, 2)))\n",
        "model.add(Conv2D(128, (3, 3), activation='sigmoid'))\n",
        "model.add(MaxPool2D((2, 2)))\n",
        "model.add(Conv2D(64, (3, 3), activation='sigmoid'))\n",
        "model.add(MaxPool2D((2, 2)))\n",
        "model.add(Flatten())\n",
        "model.add(Dense(64, activation='relu'))\n",
        "model.add(Dense(7, activation='softmax'))"
      ],
      "metadata": {
        "id": "qjPLgQhc7XRO"
      },
      "execution_count": 87,
      "outputs": []
    },
    {
      "cell_type": "code",
      "source": [
        "from keras.optimizers.optimizer import learning_rate_schedule\n",
        "model.compile(optimizer=Adam(learning_rate=0.0001), loss='categorical_crossentropy', metrics=['accuracy'])"
      ],
      "metadata": {
        "id": "CKzMS45u7XVv"
      },
      "execution_count": 88,
      "outputs": []
    },
    {
      "cell_type": "code",
      "source": [
        "model.summary()"
      ],
      "metadata": {
        "colab": {
          "base_uri": "https://localhost:8080/"
        },
        "id": "FfB9HI_d7mVb",
        "outputId": "0cf20d1d-1f1a-4885-af51-0183a343a8f9"
      },
      "execution_count": 89,
      "outputs": [
        {
          "output_type": "stream",
          "name": "stdout",
          "text": [
            "Model: \"sequential_11\"\n",
            "_________________________________________________________________\n",
            " Layer (type)                Output Shape              Param #   \n",
            "=================================================================\n",
            " conv2d_34 (Conv2D)          (None, 46, 46, 128)       1280      \n",
            "                                                                 \n",
            " max_pooling2d_29 (MaxPoolin  (None, 23, 23, 128)      0         \n",
            " g2D)                                                            \n",
            "                                                                 \n",
            " conv2d_35 (Conv2D)          (None, 21, 21, 128)       147584    \n",
            "                                                                 \n",
            " max_pooling2d_30 (MaxPoolin  (None, 10, 10, 128)      0         \n",
            " g2D)                                                            \n",
            "                                                                 \n",
            " conv2d_36 (Conv2D)          (None, 8, 8, 64)          73792     \n",
            "                                                                 \n",
            " max_pooling2d_31 (MaxPoolin  (None, 4, 4, 64)         0         \n",
            " g2D)                                                            \n",
            "                                                                 \n",
            " flatten_7 (Flatten)         (None, 1024)              0         \n",
            "                                                                 \n",
            " dense_14 (Dense)            (None, 64)                65600     \n",
            "                                                                 \n",
            " dense_15 (Dense)            (None, 7)                 455       \n",
            "                                                                 \n",
            "=================================================================\n",
            "Total params: 288,711\n",
            "Trainable params: 288,711\n",
            "Non-trainable params: 0\n",
            "_________________________________________________________________\n"
          ]
        }
      ]
    },
    {
      "cell_type": "code",
      "source": [
        "history = model.fit(train_images, train_labels,\n",
        "                    validation_data=(val_images, val_labels),\n",
        "                    class_weight = class_weight,\n",
        "                    epochs=50,\n",
        "                    batch_size=25)"
      ],
      "metadata": {
        "colab": {
          "base_uri": "https://localhost:8080/"
        },
        "id": "_dFlm6KU8Nep",
        "outputId": "7f60a5f2-b66c-4269-8df8-5bd6df3b704b"
      },
      "execution_count": 99,
      "outputs": [
        {
          "output_type": "stream",
          "name": "stdout",
          "text": [
            "Epoch 1/50\n",
            "1149/1149 [==============================] - 10s 8ms/step - loss: 0.0981 - accuracy: 0.7617 - val_loss: 1.3781 - val_accuracy: 0.5391\n",
            "Epoch 2/50\n",
            "1149/1149 [==============================] - 9s 8ms/step - loss: 0.0975 - accuracy: 0.7621 - val_loss: 1.4011 - val_accuracy: 0.5383\n",
            "Epoch 3/50\n",
            "1149/1149 [==============================] - 9s 8ms/step - loss: 0.0965 - accuracy: 0.7639 - val_loss: 1.3923 - val_accuracy: 0.5428\n",
            "Epoch 4/50\n",
            "1149/1149 [==============================] - 9s 8ms/step - loss: 0.0954 - accuracy: 0.7671 - val_loss: 1.4002 - val_accuracy: 0.5389\n",
            "Epoch 5/50\n",
            "1149/1149 [==============================] - 10s 9ms/step - loss: 0.0941 - accuracy: 0.7709 - val_loss: 1.4249 - val_accuracy: 0.5297\n",
            "Epoch 6/50\n",
            "1149/1149 [==============================] - 9s 8ms/step - loss: 0.0927 - accuracy: 0.7761 - val_loss: 1.4130 - val_accuracy: 0.5319\n",
            "Epoch 7/50\n",
            "1149/1149 [==============================] - 9s 8ms/step - loss: 0.0916 - accuracy: 0.7778 - val_loss: 1.4270 - val_accuracy: 0.5375\n",
            "Epoch 8/50\n",
            "1149/1149 [==============================] - 9s 8ms/step - loss: 0.0903 - accuracy: 0.7802 - val_loss: 1.4097 - val_accuracy: 0.5380\n",
            "Epoch 9/50\n",
            "1149/1149 [==============================] - 10s 9ms/step - loss: 0.0893 - accuracy: 0.7823 - val_loss: 1.4255 - val_accuracy: 0.5319\n",
            "Epoch 10/50\n",
            "1149/1149 [==============================] - 10s 8ms/step - loss: 0.0880 - accuracy: 0.7869 - val_loss: 1.4404 - val_accuracy: 0.5341\n",
            "Epoch 11/50\n",
            "1149/1149 [==============================] - 10s 8ms/step - loss: 0.0865 - accuracy: 0.7907 - val_loss: 1.4472 - val_accuracy: 0.5408\n",
            "Epoch 12/50\n",
            "1149/1149 [==============================] - 9s 8ms/step - loss: 0.0856 - accuracy: 0.7944 - val_loss: 1.4495 - val_accuracy: 0.5313\n",
            "Epoch 13/50\n",
            "1149/1149 [==============================] - 10s 8ms/step - loss: 0.0841 - accuracy: 0.7965 - val_loss: 1.4909 - val_accuracy: 0.5283\n",
            "Epoch 14/50\n",
            "1149/1149 [==============================] - 10s 8ms/step - loss: 0.0828 - accuracy: 0.8017 - val_loss: 1.4809 - val_accuracy: 0.5341\n",
            "Epoch 15/50\n",
            "1149/1149 [==============================] - 9s 8ms/step - loss: 0.0820 - accuracy: 0.8030 - val_loss: 1.4925 - val_accuracy: 0.5375\n",
            "Epoch 16/50\n",
            "1149/1149 [==============================] - 11s 10ms/step - loss: 0.0805 - accuracy: 0.8062 - val_loss: 1.4810 - val_accuracy: 0.5366\n",
            "Epoch 17/50\n",
            "1149/1149 [==============================] - 10s 8ms/step - loss: 0.0793 - accuracy: 0.8083 - val_loss: 1.5249 - val_accuracy: 0.5316\n",
            "Epoch 18/50\n",
            "1149/1149 [==============================] - 9s 8ms/step - loss: 0.0781 - accuracy: 0.8132 - val_loss: 1.4962 - val_accuracy: 0.5394\n",
            "Epoch 19/50\n",
            "1149/1149 [==============================] - 9s 8ms/step - loss: 0.0769 - accuracy: 0.8158 - val_loss: 1.5353 - val_accuracy: 0.5305\n",
            "Epoch 20/50\n",
            "1149/1149 [==============================] - 10s 8ms/step - loss: 0.0759 - accuracy: 0.8190 - val_loss: 1.5263 - val_accuracy: 0.5372\n",
            "Epoch 21/50\n",
            "1149/1149 [==============================] - 9s 8ms/step - loss: 0.0745 - accuracy: 0.8197 - val_loss: 1.5432 - val_accuracy: 0.5350\n",
            "Epoch 22/50\n",
            "1149/1149 [==============================] - 9s 8ms/step - loss: 0.0733 - accuracy: 0.8272 - val_loss: 1.5542 - val_accuracy: 0.5327\n",
            "Epoch 23/50\n",
            "1149/1149 [==============================] - 9s 8ms/step - loss: 0.0723 - accuracy: 0.8279 - val_loss: 1.5201 - val_accuracy: 0.5325\n",
            "Epoch 24/50\n",
            "1149/1149 [==============================] - 9s 8ms/step - loss: 0.0707 - accuracy: 0.8324 - val_loss: 1.5609 - val_accuracy: 0.5344\n",
            "Epoch 25/50\n",
            "1149/1149 [==============================] - 9s 8ms/step - loss: 0.0698 - accuracy: 0.8343 - val_loss: 1.5701 - val_accuracy: 0.5255\n",
            "Epoch 26/50\n",
            "1149/1149 [==============================] - 10s 8ms/step - loss: 0.0686 - accuracy: 0.8363 - val_loss: 1.5864 - val_accuracy: 0.5336\n",
            "Epoch 27/50\n",
            "1149/1149 [==============================] - 10s 9ms/step - loss: 0.0675 - accuracy: 0.8392 - val_loss: 1.5882 - val_accuracy: 0.5358\n",
            "Epoch 28/50\n",
            "1149/1149 [==============================] - 9s 8ms/step - loss: 0.0663 - accuracy: 0.8434 - val_loss: 1.5811 - val_accuracy: 0.5364\n",
            "Epoch 29/50\n",
            "1149/1149 [==============================] - 10s 8ms/step - loss: 0.0651 - accuracy: 0.8463 - val_loss: 1.5990 - val_accuracy: 0.5366\n",
            "Epoch 30/50\n",
            "1149/1149 [==============================] - 9s 8ms/step - loss: 0.0638 - accuracy: 0.8486 - val_loss: 1.6298 - val_accuracy: 0.5311\n",
            "Epoch 31/50\n",
            "1149/1149 [==============================] - 9s 8ms/step - loss: 0.0631 - accuracy: 0.8521 - val_loss: 1.6346 - val_accuracy: 0.5294\n",
            "Epoch 32/50\n",
            "1149/1149 [==============================] - 9s 8ms/step - loss: 0.0617 - accuracy: 0.8549 - val_loss: 1.6355 - val_accuracy: 0.5364\n",
            "Epoch 33/50\n",
            "1149/1149 [==============================] - 9s 8ms/step - loss: 0.0605 - accuracy: 0.8589 - val_loss: 1.6431 - val_accuracy: 0.5300\n",
            "Epoch 34/50\n",
            "1149/1149 [==============================] - 9s 8ms/step - loss: 0.0596 - accuracy: 0.8607 - val_loss: 1.6885 - val_accuracy: 0.5325\n",
            "Epoch 35/50\n",
            "1149/1149 [==============================] - 10s 8ms/step - loss: 0.0586 - accuracy: 0.8620 - val_loss: 1.6948 - val_accuracy: 0.5261\n",
            "Epoch 36/50\n",
            "1149/1149 [==============================] - 10s 8ms/step - loss: 0.0573 - accuracy: 0.8671 - val_loss: 1.6856 - val_accuracy: 0.5305\n",
            "Epoch 37/50\n",
            "1149/1149 [==============================] - 9s 8ms/step - loss: 0.0561 - accuracy: 0.8701 - val_loss: 1.6839 - val_accuracy: 0.5305\n",
            "Epoch 38/50\n",
            "1149/1149 [==============================] - 9s 8ms/step - loss: 0.0551 - accuracy: 0.8721 - val_loss: 1.7394 - val_accuracy: 0.5344\n",
            "Epoch 39/50\n",
            "1149/1149 [==============================] - 10s 8ms/step - loss: 0.0538 - accuracy: 0.8759 - val_loss: 1.7338 - val_accuracy: 0.5272\n",
            "Epoch 40/50\n",
            "1149/1149 [==============================] - 9s 8ms/step - loss: 0.0531 - accuracy: 0.8796 - val_loss: 1.7414 - val_accuracy: 0.5308\n",
            "Epoch 41/50\n",
            "1149/1149 [==============================] - 10s 8ms/step - loss: 0.0518 - accuracy: 0.8815 - val_loss: 1.7693 - val_accuracy: 0.5336\n",
            "Epoch 42/50\n",
            "1149/1149 [==============================] - 10s 8ms/step - loss: 0.0509 - accuracy: 0.8841 - val_loss: 1.7811 - val_accuracy: 0.5322\n",
            "Epoch 43/50\n",
            "1149/1149 [==============================] - 9s 8ms/step - loss: 0.0498 - accuracy: 0.8856 - val_loss: 1.8195 - val_accuracy: 0.5252\n",
            "Epoch 44/50\n",
            "1149/1149 [==============================] - 10s 8ms/step - loss: 0.0484 - accuracy: 0.8908 - val_loss: 1.7872 - val_accuracy: 0.5274\n",
            "Epoch 45/50\n",
            "1149/1149 [==============================] - 10s 9ms/step - loss: 0.0478 - accuracy: 0.8905 - val_loss: 1.7984 - val_accuracy: 0.5247\n",
            "Epoch 46/50\n",
            "1149/1149 [==============================] - 9s 8ms/step - loss: 0.0464 - accuracy: 0.8959 - val_loss: 1.8721 - val_accuracy: 0.5224\n",
            "Epoch 47/50\n",
            "1149/1149 [==============================] - 9s 8ms/step - loss: 0.0454 - accuracy: 0.8992 - val_loss: 1.8324 - val_accuracy: 0.5272\n",
            "Epoch 48/50\n",
            "1149/1149 [==============================] - 10s 8ms/step - loss: 0.0446 - accuracy: 0.9001 - val_loss: 1.8744 - val_accuracy: 0.5322\n",
            "Epoch 49/50\n",
            "1149/1149 [==============================] - 9s 8ms/step - loss: 0.0436 - accuracy: 0.9029 - val_loss: 1.8824 - val_accuracy: 0.5261\n",
            "Epoch 50/50\n",
            "1149/1149 [==============================] - 9s 8ms/step - loss: 0.0426 - accuracy: 0.9058 - val_loss: 1.9047 - val_accuracy: 0.5255\n"
          ]
        }
      ]
    },
    {
      "cell_type": "code",
      "source": [
        "test_loss, test_acc = model.evaluate(test_images, test_labels)\n",
        "print('test accuracy:', test_acc)"
      ],
      "metadata": {
        "colab": {
          "base_uri": "https://localhost:8080/"
        },
        "id": "gPD0Wfk18QQw",
        "outputId": "ebeebd2c-06a8-4eeb-ee53-09a45b1ba70b"
      },
      "execution_count": 104,
      "outputs": [
        {
          "output_type": "stream",
          "name": "stdout",
          "text": [
            "113/113 [==============================] - 1s 5ms/step - loss: 1.9230 - accuracy: 0.5369\n",
            "test accuracy: 0.5369183421134949\n"
          ]
        }
      ]
    },
    {
      "cell_type": "code",
      "source": [
        "pred_test_labels = model.predict(test_images)"
      ],
      "metadata": {
        "colab": {
          "base_uri": "https://localhost:8080/"
        },
        "id": "DtcwK-IS8QT9",
        "outputId": "114561fb-0e1d-4ced-f72c-8c4c0ff242f7"
      },
      "execution_count": 105,
      "outputs": [
        {
          "output_type": "stream",
          "name": "stdout",
          "text": [
            "113/113 [==============================] - 0s 3ms/step\n"
          ]
        }
      ]
    },
    {
      "cell_type": "code",
      "source": [
        "\n",
        "loss = history.history['loss']\n",
        "loss_val = history.history['val_loss']\n",
        "epochs = range(1, len(loss)+1)\n",
        "plt.plot(epochs, loss, 'bo', label='loss_train')\n",
        "plt.plot(epochs, loss_val, 'b', label='loss_val')\n",
        "plt.title('value of the loss function')\n",
        "plt.xlabel('epochs')\n",
        "plt.ylabel('value of the loss function')\n",
        "plt.legend()\n",
        "plt.grid()\n",
        "plt.show()"
      ],
      "metadata": {
        "colab": {
          "base_uri": "https://localhost:8080/",
          "height": 472
        },
        "id": "kHVcvuMO8QYo",
        "outputId": "c3361392-fb8b-498e-be14-6da1756d743e"
      },
      "execution_count": 106,
      "outputs": [
        {
          "output_type": "display_data",
          "data": {
            "text/plain": [
              "<Figure size 640x480 with 1 Axes>"
            ],
            "image/png": "[encoded data removed]"
          },
          "metadata": {}
        }
      ]
    },
    {
      "cell_type": "code",
      "source": [
        "\n",
        "acc = history.history['accuracy']\n",
        "acc_val = history.history['val_accuracy']\n",
        "epochs = range(1, len(loss)+1)\n",
        "plt.plot(epochs, acc, 'bo', label='accuracy_train')\n",
        "plt.plot(epochs, acc_val, 'b', label='accuracy_val')\n",
        "plt.title('accuracy')\n",
        "plt.xlabel('epochs')\n",
        "plt.ylabel('value of accuracy')\n",
        "plt.legend()\n",
        "plt.grid()\n",
        "plt.show()"
      ],
      "metadata": {
        "colab": {
          "base_uri": "https://localhost:8080/",
          "height": 472
        },
        "id": "-3XKsbPU8aYl",
        "outputId": "61d6fe59-b2a6-486a-b712-84d268890031"
      },
      "execution_count": 107,
      "outputs": [
        {
          "output_type": "display_data",
          "data": {
            "text/plain": [
              "<Figure size 640x480 with 1 Axes>"
            ],
            "image/png": "[encoded data removed]"
          },
          "metadata": {}
        }
      ]
    },
    {
      "cell_type": "code",
      "source": [
        "@views.route('/CaptureImage', methods = [\"POST\"] )\n",
        "def CaptureImage():\n",
        "    xyz = request.values\n",
        "    #print(xyz)\n",
        "    print(\"yaya\")\n",
        "    image_b64 = request.values['img']\n",
        "    image_data = re.sub('^data:image/.+;base64,', '', image_b64)\n",
        "    print(\"####################################@@@@@@@@@@@@@@@@@@@@@@@@@@@@@@@@@@@@@@@@@@@@@@@@@@@@@@@@@@@@@@@@@@@@@@@@@@@@@@@@\")\n",
        "    # = Image.open(cStringIO.StringIO(image_b64))\n",
        "    #image_np = np.array(image_PIL)\n",
        "    imgdata = base64.b64decode(image_data)\n",
        "    filename = 'website\\static\\Image\\some_image.jpg'\n",
        "    with open(filename, 'wb') as f:\n",
        "        f.write(imgdata)\n",
        "    #print(imgdata)\n",
        "    #'Image received: {}'.format(image_np.shape)\n",
        "    img = cv2.imread(\"website\\static\\Image\\some_image.jpg\")\n",
        "\n",
        "    # Convert into grayscale\n",
        "    gray = cv2.cvtColor(img, cv2.COLOR_BGR2GRAY)\n",
        "    face_cascade = cv2.CascadeClassifier('website\\model\\haarcascade_frontalface_alt2.xml')\n",
        "\n",
        "    # Detect faces\n",
        "    faces = face_cascade.detectMultiScale(gray, 1.1, 4)\n",
        "    print(len(faces))\n",
        "    global noface\n",
        "    noface = len(faces)\n",
        "    if len(faces) > 0:\n",
        "        for (x, y, w, h) in faces:\n",
        "            cv2.rectangle(img, (x, y), (x + w, y + h), 0, 0)\n",
        "            faces = img[y:y + h, x:x + w]\n",
        "            gray_face = cv2.cvtColor(faces, cv2.COLOR_BGR2GRAY)\n",
        "            #cv2.imshow(\"face\", gray_face)\n",
        "            #FinalYearProject/website/static/Image\n",
        "            cv2.imwrite('website\\static\\Image\\Facenew.jpg', gray_face)\n",
        "            break\n",
        "\n",
        "        # Display the output\n",
        "        cv2.imwrite('detctednew.jpg', img)\n",
        "        #cv2.imshow('img', img)\n",
        "        #cv2.waitKey()\n",
        "\n",
        "    #Detected_mood(classi)\n",
        "    return render_template(\"CaptureImage.html\")\n",
        "\n",
        "\n",
        "@views.route('/Detected_mood')\n",
        "def Detected_mood():\n",
        "    model_path = \"website\\model\\cnnbestmodel2.h5\"\n",
        "    # model = model_from_json(open(\"models/fer.json\", \"r\").read())\n",
        "    model = load_model(model_path)\n",
        "    image_path = 'website\\static\\Image\\Facenew.jpg'\n",
        "    img = cv2.imread(image_path)\n",
        "    img = cv2.resize(img, (48, 48))\n",
        "    img = np.reshape(img, [1, 48, 48, 3])\n",
        "    img1 = cv2.imread(\"website\\static\\Image\\some_image.jpg\")\n",
        "    print(img1.shape)\n",
        "    detector = FER(mtcnn=True)\n",
        "    print(\"#########################################\")\n",
        "    print(detector.detect_emotions(img1))\n",
        "    # image = np.array(Image.open(image_path).resize((48,48)))\n",
        "    # images_list = []\n",
        "    # images_list.append(np.array(image))\n",
        "    # x = np.asarray(images_list)\n",
        "    print(img.shape)\n",
        "    yhat = model.predict(img)\n",
        "    print(yhat)\n",
        "    classes_x = np.argmax(yhat[0])\n",
        "    print(classes_x)\n",
        "    emotions = [\"angry\", \"fear\", \"happy\", \"neutral\", \"sad\", \"surprise\"]\n",
        "\n",
        "    classi = str(emotions[classes_x])\n",
        "    print(classi)\n",
        "    urlpath = \"http://127.0.0.1:5000/\" + classi\n",
        "    if noface >0:\n",
        "        return render_template(\"Detected_mood.html\", prediction=classi, urlpath=urlpath)\n",
        "    else:\n",
        "        urlpath = \"http://127.0.0.1:5000/CaptureImage\"\n",
        "        return render_template(\"Detected_mood.html\", noface=\"noface\", urlpath=urlpath)"
      ],
      "metadata": {
        "colab": {
          "base_uri": "https://localhost:8080/",
          "height": 235
        },
        "id": "KroNn0Yjwl3N",
        "outputId": "49d39001-3774-4a43-e0f9-98b6e39600a3"
      },
      "execution_count": 108,
      "outputs": [
        {
          "output_type": "error",
          "ename": "NameError",
          "evalue": "ignored",
          "traceback": [
            "\u001b[0;31m---------------------------------------------------------------------------\u001b[0m",
            "\u001b[0;31mNameError\u001b[0m                                 Traceback (most recent call last)",
            "\u001b[0;32m<ipython-input-108-363301375fff>\u001b[0m in \u001b[0;36m<cell line: 1>\u001b[0;34m()\u001b[0m\n\u001b[0;32m----> 1\u001b[0;31m \u001b[0;34m@\u001b[0m\u001b[0mviews\u001b[0m\u001b[0;34m.\u001b[0m\u001b[0mroute\u001b[0m\u001b[0;34m(\u001b[0m\u001b[0;34m'/CaptureImage'\u001b[0m\u001b[0;34m,\u001b[0m \u001b[0mmethods\u001b[0m \u001b[0;34m=\u001b[0m \u001b[0;34m[\u001b[0m\u001b[0;34m\"POST\"\u001b[0m\u001b[0;34m]\u001b[0m \u001b[0;34m)\u001b[0m\u001b[0;34m\u001b[0m\u001b[0;34m\u001b[0m\u001b[0m\n\u001b[0m\u001b[1;32m      2\u001b[0m \u001b[0;32mdef\u001b[0m \u001b[0mCaptureImage\u001b[0m\u001b[0;34m(\u001b[0m\u001b[0;34m)\u001b[0m\u001b[0;34m:\u001b[0m\u001b[0;34m\u001b[0m\u001b[0;34m\u001b[0m\u001b[0m\n\u001b[1;32m      3\u001b[0m     \u001b[0mxyz\u001b[0m \u001b[0;34m=\u001b[0m \u001b[0mrequest\u001b[0m\u001b[0;34m.\u001b[0m\u001b[0mvalues\u001b[0m\u001b[0;34m\u001b[0m\u001b[0;34m\u001b[0m\u001b[0m\n\u001b[1;32m      4\u001b[0m     \u001b[0;31m#print(xyz)\u001b[0m\u001b[0;34m\u001b[0m\u001b[0;34m\u001b[0m\u001b[0m\n\u001b[1;32m      5\u001b[0m     \u001b[0mprint\u001b[0m\u001b[0;34m(\u001b[0m\u001b[0;34m\"yaya\"\u001b[0m\u001b[0;34m)\u001b[0m\u001b[0;34m\u001b[0m\u001b[0;34m\u001b[0m\u001b[0m\n",
            "\u001b[0;31mNameError\u001b[0m: name 'views' is not defined"
          ]
        }
      ]
    }
  ]
}